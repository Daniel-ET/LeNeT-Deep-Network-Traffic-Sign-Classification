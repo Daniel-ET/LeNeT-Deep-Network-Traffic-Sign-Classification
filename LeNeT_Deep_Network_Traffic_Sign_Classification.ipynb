{
 "cells": [
  {
   "cell_type": "markdown",
   "metadata": {
    "id": "_ZwJhqwaqyCT"
   },
   "source": [
    "# <u>**Overview**"
   ]
  },
  {
   "cell_type": "markdown",
   "metadata": {
    "id": "XOCPEnAMkScZ"
   },
   "source": [
    "This project aims to classify images of different traffics signs using a leNet convolutional neural network\n",
    "\n",
    "The dataset contains 43 different classes of images. Classes are as listed below\n",
    "\n",
    "* 0 - Speed limit 20 km/h\n",
    "* 1 - Speed limit 30 km/h\n",
    "* 2 - Speed limit 50 km/h\n",
    "* 3 - Speed limit 60 km/h\n",
    "* 4 - Speed limit 70 km/h\n",
    "* 5 - Speed limit 80 km/h\n",
    "* 6 - End of speed limit 80 km/h\n",
    "* 7 - Speed limit 100km/h\n",
    "* 8 - Speed limit 120km/h\n",
    "* 9 - No passing\n",
    "* 10 - No passing for vehicles over 3.5 metric tons\n",
    "* 11 - Right-of-way at the next intersection\n",
    "* 12 - Priority road\n",
    "* 13 - Yield\n",
    "* 14 - Stop\n",
    "* 15 - No vehicles\n",
    "* 16 - Vehicles over 3.5 metric tons prohibited\n",
    "* 17 - No entry\n",
    "* 18 - General caution\n",
    "* 19 - Dangerous curve to the left\n",
    "* 20 - Dangerous curve to the right\n",
    "* 21 - Double curve\n",
    "* 22 - Bumpy road\n",
    "* 23 - Slippery road\n",
    "* 24 - Road narrows on the right\n",
    "* 25 - Road work\n",
    "* 26 - Traffic signals\n",
    "* 27 - Pedestrians\n",
    "* 28 - Children crossing\n",
    "* 29 - Bicycles crossing\n",
    "* 30 - Beware of ice/snow\n",
    "* 31 - Wild animals crossing\n",
    "* 32 - End of all speed and passing limits\n",
    "* 33 - Turn right ahead\n",
    "* 34 - Turn left ahead\n",
    "* 35 - Ahead only\n",
    "* 36 - Go straight or right\n",
    "* 37 - Go straight or left\n",
    "* 38 - Keep right\n",
    "* 39 - Keep left\n",
    "* 40 - Roundabout mandatory\n",
    "* 41 - End of no passing\n",
    "* 42 - End of no passing by vehicles over 3.5 metric tons"
   ]
  },
  {
   "cell_type": "markdown",
   "metadata": {
    "id": "vLq6bnxrE8p7"
   },
   "source": [
    "# <u>**Importing Libraries and dataset**"
   ]
  },
  {
   "cell_type": "code",
   "execution_count": 1,
   "metadata": {
    "id": "vrsW0GUjjyKu"
   },
   "outputs": [],
   "source": [
    "import pandas as pd\n",
    "import numpy as np\n",
    "import matplotlib.pyplot as plt\n",
    "import seaborn as sns\n",
    "import pickle # The pickle module implements binary protocols for serializing and de-serializing a Python object structure."
   ]
  },
  {
   "cell_type": "code",
   "execution_count": 2,
   "metadata": {
    "colab": {
     "base_uri": "https://localhost:8080/",
     "height": 235
    },
    "id": "YuUAr5JHGIG9",
    "outputId": "0cefd2f8-959f-49d0-c0e7-1cc9c52bc045"
   },
   "outputs": [],
   "source": [
    "with open(\"train.p\", mode='rb') as training:\n",
    "    train = pickle.load(training)\n",
    "with open(\"valid.p\", mode='rb') as validation:\n",
    "    valid = pickle.load(validation)\n",
    "with open(\"test.p\", mode='rb') as testing:\n",
    "    test = pickle.load(testing)"
   ]
  },
  {
   "cell_type": "code",
   "execution_count": 3,
   "metadata": {
    "id": "5SAY_jzCHfx1"
   },
   "outputs": [],
   "source": [
    "X_train, y_train = train['features'], train['labels']\n",
    "X_val, y_val = valid['features'], valid['labels']\n",
    "X_test, y_test = test['features'], valid['labels']"
   ]
  },
  {
   "cell_type": "code",
   "execution_count": 4,
   "metadata": {
    "id": "l0D1OzszKRGZ"
   },
   "outputs": [
    {
     "data": {
      "text/plain": [
       "(34799, 32, 32, 3)"
      ]
     },
     "execution_count": 4,
     "metadata": {},
     "output_type": "execute_result"
    }
   ],
   "source": [
    "X_train.shape"
   ]
  },
  {
   "cell_type": "code",
   "execution_count": 5,
   "metadata": {
    "id": "2btXvdivKbcv"
   },
   "outputs": [
    {
     "data": {
      "text/plain": [
       "(34799,)"
      ]
     },
     "execution_count": 5,
     "metadata": {},
     "output_type": "execute_result"
    }
   ],
   "source": [
    "y_train.shape"
   ]
  },
  {
   "cell_type": "code",
   "execution_count": 6,
   "metadata": {
    "id": "i2avruW-Klsc"
   },
   "outputs": [
    {
     "data": {
      "text/plain": [
       "(4410, 32, 32, 3)"
      ]
     },
     "execution_count": 6,
     "metadata": {},
     "output_type": "execute_result"
    }
   ],
   "source": [
    "X_val.shape"
   ]
  },
  {
   "cell_type": "code",
   "execution_count": 7,
   "metadata": {
    "id": "InP4QM__KrAk"
   },
   "outputs": [
    {
     "data": {
      "text/plain": [
       "(4410,)"
      ]
     },
     "execution_count": 7,
     "metadata": {},
     "output_type": "execute_result"
    }
   ],
   "source": [
    "y_val.shape"
   ]
  },
  {
   "cell_type": "code",
   "execution_count": 8,
   "metadata": {
    "id": "xpBgFMp1Kt3-"
   },
   "outputs": [
    {
     "data": {
      "text/plain": [
       "(12630, 32, 32, 3)"
      ]
     },
     "execution_count": 8,
     "metadata": {},
     "output_type": "execute_result"
    }
   ],
   "source": [
    "X_test.shape"
   ]
  },
  {
   "cell_type": "code",
   "execution_count": 9,
   "metadata": {
    "id": "_8dK7HTkKwbi"
   },
   "outputs": [
    {
     "data": {
      "text/plain": [
       "(4410,)"
      ]
     },
     "execution_count": 9,
     "metadata": {},
     "output_type": "execute_result"
    }
   ],
   "source": [
    "y_test.shape"
   ]
  },
  {
   "cell_type": "markdown",
   "metadata": {
    "id": "Drknd14zQx_q"
   },
   "source": [
    "# <u>**Image Exploration**"
   ]
  },
  {
   "cell_type": "code",
   "execution_count": 10,
   "metadata": {
    "id": "B5Ce8AkFQ2Sm"
   },
   "outputs": [
    {
     "data": {
      "text/plain": [
       "31"
      ]
     },
     "execution_count": 10,
     "metadata": {},
     "output_type": "execute_result"
    },
    {
     "data": {
      "image/png": "[encoded data removed]",
      "text/plain": [
       "<Figure size 432x288 with 1 Axes>"
      ]
     },
     "metadata": {
      "needs_background": "light"
     },
     "output_type": "display_data"
    }
   ],
   "source": [
    "i = 500\n",
    "plt.imshow(X_train[i])\n",
    "y_train[i]"
   ]
  },
  {
   "cell_type": "code",
   "execution_count": 11,
   "metadata": {
    "id": "sa3Cz4ReUqp4"
   },
   "outputs": [
    {
     "data": {
      "text/plain": [
       "38"
      ]
     },
     "execution_count": 11,
     "metadata": {},
     "output_type": "execute_result"
    },
    {
     "data": {
      "image/png": "[encoded data removed]",
      "text/plain": [
       "<Figure size 432x288 with 1 Axes>"
      ]
     },
     "metadata": {
      "needs_background": "light"
     },
     "output_type": "display_data"
    }
   ],
   "source": [
    "i = 2000\n",
    "plt.imshow(X_val[i])\n",
    "y_val[i]"
   ]
  },
  {
   "cell_type": "code",
   "execution_count": 12,
   "metadata": {
    "id": "KbOSP-jLUwtT"
   },
   "outputs": [
    {
     "data": {
      "text/plain": [
       "31"
      ]
     },
     "execution_count": 12,
     "metadata": {},
     "output_type": "execute_result"
    },
    {
     "data": {
      "image/png": "[encoded data removed]",
      "text/plain": [
       "<Figure size 432x288 with 1 Axes>"
      ]
     },
     "metadata": {
      "needs_background": "light"
     },
     "output_type": "display_data"
    }
   ],
   "source": [
    "i = 30\n",
    "plt.imshow(X_test[i])\n",
    "y_test[i]"
   ]
  },
  {
   "cell_type": "markdown",
   "metadata": {
    "id": "xoobPt9wVMao"
   },
   "source": [
    "# <u>**Data Preparation**"
   ]
  },
  {
   "cell_type": "code",
   "execution_count": 13,
   "metadata": {
    "id": "o07x70wmVHcq"
   },
   "outputs": [],
   "source": [
    "# shuffle training data\n",
    "from sklearn.utils import shuffle\n",
    "X_train, y_train = shuffle(X_train, y_train)"
   ]
  },
  {
   "cell_type": "code",
   "execution_count": 14,
   "metadata": {
    "id": "s7nvHDNJWGTJ"
   },
   "outputs": [],
   "source": [
    "# Convert images from colour to greyscale by averaging pixels\n",
    "X_train_grey = np.sum(X_train/3, axis = 3, keepdims = True)\n",
    "X_test_grey = np.sum(X_test/3, axis = 3, keepdims = True)\n",
    "X_val_grey = np.sum(X_val/3, axis = 3, keepdims = True)"
   ]
  },
  {
   "cell_type": "code",
   "execution_count": 15,
   "metadata": {
    "id": "CQT7Ri3cWhRI"
   },
   "outputs": [
    {
     "data": {
      "text/plain": [
       "array([[[[ 35.        ],\n",
       "         [ 35.33333333],\n",
       "         [ 35.66666667],\n",
       "         ...,\n",
       "         [ 33.66666667],\n",
       "         [ 38.        ],\n",
       "         [ 40.66666667]],\n",
       "\n",
       "        [[ 35.66666667],\n",
       "         [ 36.66666667],\n",
       "         [ 37.33333333],\n",
       "         ...,\n",
       "         [ 35.        ],\n",
       "         [ 41.33333333],\n",
       "         [ 39.33333333]],\n",
       "\n",
       "        [[ 35.        ],\n",
       "         [ 36.66666667],\n",
       "         [ 36.        ],\n",
       "         ...,\n",
       "         [ 36.66666667],\n",
       "         [ 41.        ],\n",
       "         [ 39.66666667]],\n",
       "\n",
       "        ...,\n",
       "\n",
       "        [[ 21.33333333],\n",
       "         [ 22.33333333],\n",
       "         [ 23.        ],\n",
       "         ...,\n",
       "         [ 21.        ],\n",
       "         [ 21.66666667],\n",
       "         [ 22.66666667]],\n",
       "\n",
       "        [[ 22.        ],\n",
       "         [ 23.33333333],\n",
       "         [ 25.33333333],\n",
       "         ...,\n",
       "         [ 20.        ],\n",
       "         [ 20.66666667],\n",
       "         [ 21.66666667]],\n",
       "\n",
       "        [[ 22.66666667],\n",
       "         [ 25.33333333],\n",
       "         [ 25.33333333],\n",
       "         ...,\n",
       "         [ 22.        ],\n",
       "         [ 22.        ],\n",
       "         [ 22.        ]]],\n",
       "\n",
       "\n",
       "       [[[ 82.        ],\n",
       "         [ 83.33333333],\n",
       "         [ 78.33333333],\n",
       "         ...,\n",
       "         [ 77.        ],\n",
       "         [ 63.        ],\n",
       "         [ 60.66666667]],\n",
       "\n",
       "        [[ 87.33333333],\n",
       "         [ 97.33333333],\n",
       "         [ 89.33333333],\n",
       "         ...,\n",
       "         [ 73.66666667],\n",
       "         [ 61.66666667],\n",
       "         [ 60.33333333]],\n",
       "\n",
       "        [[110.33333333],\n",
       "         [130.33333333],\n",
       "         [125.33333333],\n",
       "         ...,\n",
       "         [ 65.33333333],\n",
       "         [ 61.66666667],\n",
       "         [ 63.33333333]],\n",
       "\n",
       "        ...,\n",
       "\n",
       "        [[ 67.33333333],\n",
       "         [ 71.        ],\n",
       "         [ 72.        ],\n",
       "         ...,\n",
       "         [ 76.33333333],\n",
       "         [ 72.33333333],\n",
       "         [ 59.        ]],\n",
       "\n",
       "        [[ 71.66666667],\n",
       "         [ 70.33333333],\n",
       "         [ 68.66666667],\n",
       "         ...,\n",
       "         [ 75.66666667],\n",
       "         [ 73.        ],\n",
       "         [ 60.33333333]],\n",
       "\n",
       "        [[ 78.66666667],\n",
       "         [ 71.66666667],\n",
       "         [ 68.66666667],\n",
       "         ...,\n",
       "         [ 73.66666667],\n",
       "         [ 71.66666667],\n",
       "         [ 59.        ]]],\n",
       "\n",
       "\n",
       "       [[[ 53.33333333],\n",
       "         [ 48.33333333],\n",
       "         [ 50.66666667],\n",
       "         ...,\n",
       "         [153.66666667],\n",
       "         [180.        ],\n",
       "         [131.66666667]],\n",
       "\n",
       "        [[ 51.33333333],\n",
       "         [ 47.33333333],\n",
       "         [ 49.66666667],\n",
       "         ...,\n",
       "         [163.66666667],\n",
       "         [148.        ],\n",
       "         [ 97.33333333]],\n",
       "\n",
       "        [[ 70.66666667],\n",
       "         [ 70.        ],\n",
       "         [ 74.        ],\n",
       "         ...,\n",
       "         [ 77.66666667],\n",
       "         [ 76.33333333],\n",
       "         [ 68.66666667]],\n",
       "\n",
       "        ...,\n",
       "\n",
       "        [[ 65.        ],\n",
       "         [ 49.        ],\n",
       "         [ 40.        ],\n",
       "         ...,\n",
       "         [ 42.66666667],\n",
       "         [ 45.        ],\n",
       "         [ 44.        ]],\n",
       "\n",
       "        [[ 54.        ],\n",
       "         [ 49.33333333],\n",
       "         [ 40.33333333],\n",
       "         ...,\n",
       "         [ 59.66666667],\n",
       "         [ 61.33333333],\n",
       "         [ 55.        ]],\n",
       "\n",
       "        [[ 60.66666667],\n",
       "         [ 61.66666667],\n",
       "         [ 49.        ],\n",
       "         ...,\n",
       "         [ 74.33333333],\n",
       "         [ 70.66666667],\n",
       "         [ 56.        ]]],\n",
       "\n",
       "\n",
       "       ...,\n",
       "\n",
       "\n",
       "       [[[ 22.66666667],\n",
       "         [ 20.66666667],\n",
       "         [ 22.66666667],\n",
       "         ...,\n",
       "         [197.        ],\n",
       "         [197.33333333],\n",
       "         [198.33333333]],\n",
       "\n",
       "        [[ 19.66666667],\n",
       "         [ 18.33333333],\n",
       "         [ 19.33333333],\n",
       "         ...,\n",
       "         [195.33333333],\n",
       "         [198.66666667],\n",
       "         [200.33333333]],\n",
       "\n",
       "        [[ 22.33333333],\n",
       "         [ 23.        ],\n",
       "         [ 23.        ],\n",
       "         ...,\n",
       "         [196.33333333],\n",
       "         [200.33333333],\n",
       "         [201.66666667]],\n",
       "\n",
       "        ...,\n",
       "\n",
       "        [[ 23.66666667],\n",
       "         [ 24.        ],\n",
       "         [ 24.        ],\n",
       "         ...,\n",
       "         [ 89.66666667],\n",
       "         [ 82.66666667],\n",
       "         [ 82.66666667]],\n",
       "\n",
       "        [[ 23.        ],\n",
       "         [ 25.        ],\n",
       "         [ 25.        ],\n",
       "         ...,\n",
       "         [ 73.33333333],\n",
       "         [ 76.        ],\n",
       "         [ 74.66666667]],\n",
       "\n",
       "        [[ 22.        ],\n",
       "         [ 23.        ],\n",
       "         [ 23.66666667],\n",
       "         ...,\n",
       "         [ 71.33333333],\n",
       "         [ 89.33333333],\n",
       "         [ 84.66666667]]],\n",
       "\n",
       "\n",
       "       [[[ 20.        ],\n",
       "         [ 20.33333333],\n",
       "         [ 20.66666667],\n",
       "         ...,\n",
       "         [ 24.        ],\n",
       "         [ 23.33333333],\n",
       "         [ 24.        ]],\n",
       "\n",
       "        [[ 20.33333333],\n",
       "         [ 19.66666667],\n",
       "         [ 20.33333333],\n",
       "         ...,\n",
       "         [ 24.33333333],\n",
       "         [ 24.        ],\n",
       "         [ 24.        ]],\n",
       "\n",
       "        [[ 20.66666667],\n",
       "         [ 20.33333333],\n",
       "         [ 21.        ],\n",
       "         ...,\n",
       "         [ 25.33333333],\n",
       "         [ 24.33333333],\n",
       "         [ 24.        ]],\n",
       "\n",
       "        ...,\n",
       "\n",
       "        [[ 18.33333333],\n",
       "         [ 19.33333333],\n",
       "         [ 21.        ],\n",
       "         ...,\n",
       "         [ 22.66666667],\n",
       "         [ 22.        ],\n",
       "         [ 22.33333333]],\n",
       "\n",
       "        [[ 19.33333333],\n",
       "         [ 19.66666667],\n",
       "         [ 25.66666667],\n",
       "         ...,\n",
       "         [ 27.66666667],\n",
       "         [ 24.66666667],\n",
       "         [ 24.66666667]],\n",
       "\n",
       "        [[ 18.        ],\n",
       "         [ 20.33333333],\n",
       "         [ 29.33333333],\n",
       "         ...,\n",
       "         [ 33.66666667],\n",
       "         [ 28.        ],\n",
       "         [ 27.66666667]]],\n",
       "\n",
       "\n",
       "       [[[ 21.        ],\n",
       "         [ 16.33333333],\n",
       "         [ 14.33333333],\n",
       "         ...,\n",
       "         [ 17.        ],\n",
       "         [ 18.        ],\n",
       "         [ 18.        ]],\n",
       "\n",
       "        [[ 20.33333333],\n",
       "         [ 14.66666667],\n",
       "         [ 13.33333333],\n",
       "         ...,\n",
       "         [ 17.66666667],\n",
       "         [ 20.66666667],\n",
       "         [ 20.        ]],\n",
       "\n",
       "        [[ 16.        ],\n",
       "         [ 15.66666667],\n",
       "         [ 15.        ],\n",
       "         ...,\n",
       "         [ 17.33333333],\n",
       "         [ 21.        ],\n",
       "         [ 18.66666667]],\n",
       "\n",
       "        ...,\n",
       "\n",
       "        [[ 16.        ],\n",
       "         [ 16.33333333],\n",
       "         [ 16.        ],\n",
       "         ...,\n",
       "         [ 16.        ],\n",
       "         [ 16.        ],\n",
       "         [ 16.66666667]],\n",
       "\n",
       "        [[ 15.66666667],\n",
       "         [ 16.        ],\n",
       "         [ 14.        ],\n",
       "         ...,\n",
       "         [ 16.        ],\n",
       "         [ 16.        ],\n",
       "         [ 16.        ]],\n",
       "\n",
       "        [[ 15.33333333],\n",
       "         [ 15.33333333],\n",
       "         [ 14.        ],\n",
       "         ...,\n",
       "         [ 16.        ],\n",
       "         [ 15.66666667],\n",
       "         [ 15.33333333]]]])"
      ]
     },
     "execution_count": 15,
     "metadata": {},
     "output_type": "execute_result"
    }
   ],
   "source": [
    "X_train_grey"
   ]
  },
  {
   "cell_type": "code",
   "execution_count": 16,
   "metadata": {
    "id": "cwXKfYraWjdG"
   },
   "outputs": [
    {
     "name": "stdout",
     "output_type": "stream",
     "text": [
      "The shape of the training data is: (34799, 32, 32, 1)\n",
      "The shape of the test data is: (12630, 32, 32, 1)\n",
      "the shape of the validation data is: (4410, 32, 32, 1)\n"
     ]
    }
   ],
   "source": [
    "print(\"The shape of the training data is:\", X_train_grey.shape)\n",
    "print('The shape of the test data is:', X_test_grey.shape)\n",
    "print(\"the shape of the validation data is:\", X_val_grey.shape)"
   ]
  },
  {
   "cell_type": "code",
   "execution_count": 17,
   "metadata": {
    "id": "f4u-ay6sYBqa"
   },
   "outputs": [],
   "source": [
    "# Normalization (finding \"central value\")\n",
    "X_train_grey_norm = (X_train_grey-128)/128\n",
    "X_test_grey_norm = (X_test_grey-128)/128\n",
    "X_val_grey_norm = (X_val_grey-128)/128"
   ]
  },
  {
   "cell_type": "code",
   "execution_count": 18,
   "metadata": {
    "id": "4WKaWDsqZm_c"
   },
   "outputs": [
    {
     "data": {
      "text/plain": [
       "array([[[[-0.7265625 ],\n",
       "         [-0.72395833],\n",
       "         [-0.72135417],\n",
       "         ...,\n",
       "         [-0.73697917],\n",
       "         [-0.703125  ],\n",
       "         [-0.68229167]],\n",
       "\n",
       "        [[-0.72135417],\n",
       "         [-0.71354167],\n",
       "         [-0.70833333],\n",
       "         ...,\n",
       "         [-0.7265625 ],\n",
       "         [-0.67708333],\n",
       "         [-0.69270833]],\n",
       "\n",
       "        [[-0.7265625 ],\n",
       "         [-0.71354167],\n",
       "         [-0.71875   ],\n",
       "         ...,\n",
       "         [-0.71354167],\n",
       "         [-0.6796875 ],\n",
       "         [-0.69010417]],\n",
       "\n",
       "        ...,\n",
       "\n",
       "        [[-0.83333333],\n",
       "         [-0.82552083],\n",
       "         [-0.8203125 ],\n",
       "         ...,\n",
       "         [-0.8359375 ],\n",
       "         [-0.83072917],\n",
       "         [-0.82291667]],\n",
       "\n",
       "        [[-0.828125  ],\n",
       "         [-0.81770833],\n",
       "         [-0.80208333],\n",
       "         ...,\n",
       "         [-0.84375   ],\n",
       "         [-0.83854167],\n",
       "         [-0.83072917]],\n",
       "\n",
       "        [[-0.82291667],\n",
       "         [-0.80208333],\n",
       "         [-0.80208333],\n",
       "         ...,\n",
       "         [-0.828125  ],\n",
       "         [-0.828125  ],\n",
       "         [-0.828125  ]]],\n",
       "\n",
       "\n",
       "       [[[-0.359375  ],\n",
       "         [-0.34895833],\n",
       "         [-0.38802083],\n",
       "         ...,\n",
       "         [-0.3984375 ],\n",
       "         [-0.5078125 ],\n",
       "         [-0.52604167]],\n",
       "\n",
       "        [[-0.31770833],\n",
       "         [-0.23958333],\n",
       "         [-0.30208333],\n",
       "         ...,\n",
       "         [-0.42447917],\n",
       "         [-0.51822917],\n",
       "         [-0.52864583]],\n",
       "\n",
       "        [[-0.13802083],\n",
       "         [ 0.01822917],\n",
       "         [-0.02083333],\n",
       "         ...,\n",
       "         [-0.48958333],\n",
       "         [-0.51822917],\n",
       "         [-0.50520833]],\n",
       "\n",
       "        ...,\n",
       "\n",
       "        [[-0.47395833],\n",
       "         [-0.4453125 ],\n",
       "         [-0.4375    ],\n",
       "         ...,\n",
       "         [-0.40364583],\n",
       "         [-0.43489583],\n",
       "         [-0.5390625 ]],\n",
       "\n",
       "        [[-0.44010417],\n",
       "         [-0.45052083],\n",
       "         [-0.46354167],\n",
       "         ...,\n",
       "         [-0.40885417],\n",
       "         [-0.4296875 ],\n",
       "         [-0.52864583]],\n",
       "\n",
       "        [[-0.38541667],\n",
       "         [-0.44010417],\n",
       "         [-0.46354167],\n",
       "         ...,\n",
       "         [-0.42447917],\n",
       "         [-0.44010417],\n",
       "         [-0.5390625 ]]],\n",
       "\n",
       "\n",
       "       [[[-0.58333333],\n",
       "         [-0.62239583],\n",
       "         [-0.60416667],\n",
       "         ...,\n",
       "         [ 0.20052083],\n",
       "         [ 0.40625   ],\n",
       "         [ 0.02864583]],\n",
       "\n",
       "        [[-0.59895833],\n",
       "         [-0.63020833],\n",
       "         [-0.61197917],\n",
       "         ...,\n",
       "         [ 0.27864583],\n",
       "         [ 0.15625   ],\n",
       "         [-0.23958333]],\n",
       "\n",
       "        [[-0.44791667],\n",
       "         [-0.453125  ],\n",
       "         [-0.421875  ],\n",
       "         ...,\n",
       "         [-0.39322917],\n",
       "         [-0.40364583],\n",
       "         [-0.46354167]],\n",
       "\n",
       "        ...,\n",
       "\n",
       "        [[-0.4921875 ],\n",
       "         [-0.6171875 ],\n",
       "         [-0.6875    ],\n",
       "         ...,\n",
       "         [-0.66666667],\n",
       "         [-0.6484375 ],\n",
       "         [-0.65625   ]],\n",
       "\n",
       "        [[-0.578125  ],\n",
       "         [-0.61458333],\n",
       "         [-0.68489583],\n",
       "         ...,\n",
       "         [-0.53385417],\n",
       "         [-0.52083333],\n",
       "         [-0.5703125 ]],\n",
       "\n",
       "        [[-0.52604167],\n",
       "         [-0.51822917],\n",
       "         [-0.6171875 ],\n",
       "         ...,\n",
       "         [-0.41927083],\n",
       "         [-0.44791667],\n",
       "         [-0.5625    ]]],\n",
       "\n",
       "\n",
       "       ...,\n",
       "\n",
       "\n",
       "       [[[-0.82291667],\n",
       "         [-0.83854167],\n",
       "         [-0.82291667],\n",
       "         ...,\n",
       "         [ 0.5390625 ],\n",
       "         [ 0.54166667],\n",
       "         [ 0.54947917]],\n",
       "\n",
       "        [[-0.84635417],\n",
       "         [-0.85677083],\n",
       "         [-0.84895833],\n",
       "         ...,\n",
       "         [ 0.52604167],\n",
       "         [ 0.55208333],\n",
       "         [ 0.56510417]],\n",
       "\n",
       "        [[-0.82552083],\n",
       "         [-0.8203125 ],\n",
       "         [-0.8203125 ],\n",
       "         ...,\n",
       "         [ 0.53385417],\n",
       "         [ 0.56510417],\n",
       "         [ 0.57552083]],\n",
       "\n",
       "        ...,\n",
       "\n",
       "        [[-0.81510417],\n",
       "         [-0.8125    ],\n",
       "         [-0.8125    ],\n",
       "         ...,\n",
       "         [-0.29947917],\n",
       "         [-0.35416667],\n",
       "         [-0.35416667]],\n",
       "\n",
       "        [[-0.8203125 ],\n",
       "         [-0.8046875 ],\n",
       "         [-0.8046875 ],\n",
       "         ...,\n",
       "         [-0.42708333],\n",
       "         [-0.40625   ],\n",
       "         [-0.41666667]],\n",
       "\n",
       "        [[-0.828125  ],\n",
       "         [-0.8203125 ],\n",
       "         [-0.81510417],\n",
       "         ...,\n",
       "         [-0.44270833],\n",
       "         [-0.30208333],\n",
       "         [-0.33854167]]],\n",
       "\n",
       "\n",
       "       [[[-0.84375   ],\n",
       "         [-0.84114583],\n",
       "         [-0.83854167],\n",
       "         ...,\n",
       "         [-0.8125    ],\n",
       "         [-0.81770833],\n",
       "         [-0.8125    ]],\n",
       "\n",
       "        [[-0.84114583],\n",
       "         [-0.84635417],\n",
       "         [-0.84114583],\n",
       "         ...,\n",
       "         [-0.80989583],\n",
       "         [-0.8125    ],\n",
       "         [-0.8125    ]],\n",
       "\n",
       "        [[-0.83854167],\n",
       "         [-0.84114583],\n",
       "         [-0.8359375 ],\n",
       "         ...,\n",
       "         [-0.80208333],\n",
       "         [-0.80989583],\n",
       "         [-0.8125    ]],\n",
       "\n",
       "        ...,\n",
       "\n",
       "        [[-0.85677083],\n",
       "         [-0.84895833],\n",
       "         [-0.8359375 ],\n",
       "         ...,\n",
       "         [-0.82291667],\n",
       "         [-0.828125  ],\n",
       "         [-0.82552083]],\n",
       "\n",
       "        [[-0.84895833],\n",
       "         [-0.84635417],\n",
       "         [-0.79947917],\n",
       "         ...,\n",
       "         [-0.78385417],\n",
       "         [-0.80729167],\n",
       "         [-0.80729167]],\n",
       "\n",
       "        [[-0.859375  ],\n",
       "         [-0.84114583],\n",
       "         [-0.77083333],\n",
       "         ...,\n",
       "         [-0.73697917],\n",
       "         [-0.78125   ],\n",
       "         [-0.78385417]]],\n",
       "\n",
       "\n",
       "       [[[-0.8359375 ],\n",
       "         [-0.87239583],\n",
       "         [-0.88802083],\n",
       "         ...,\n",
       "         [-0.8671875 ],\n",
       "         [-0.859375  ],\n",
       "         [-0.859375  ]],\n",
       "\n",
       "        [[-0.84114583],\n",
       "         [-0.88541667],\n",
       "         [-0.89583333],\n",
       "         ...,\n",
       "         [-0.86197917],\n",
       "         [-0.83854167],\n",
       "         [-0.84375   ]],\n",
       "\n",
       "        [[-0.875     ],\n",
       "         [-0.87760417],\n",
       "         [-0.8828125 ],\n",
       "         ...,\n",
       "         [-0.86458333],\n",
       "         [-0.8359375 ],\n",
       "         [-0.85416667]],\n",
       "\n",
       "        ...,\n",
       "\n",
       "        [[-0.875     ],\n",
       "         [-0.87239583],\n",
       "         [-0.875     ],\n",
       "         ...,\n",
       "         [-0.875     ],\n",
       "         [-0.875     ],\n",
       "         [-0.86979167]],\n",
       "\n",
       "        [[-0.87760417],\n",
       "         [-0.875     ],\n",
       "         [-0.890625  ],\n",
       "         ...,\n",
       "         [-0.875     ],\n",
       "         [-0.875     ],\n",
       "         [-0.875     ]],\n",
       "\n",
       "        [[-0.88020833],\n",
       "         [-0.88020833],\n",
       "         [-0.890625  ],\n",
       "         ...,\n",
       "         [-0.875     ],\n",
       "         [-0.87760417],\n",
       "         [-0.88020833]]]])"
      ]
     },
     "execution_count": 18,
     "metadata": {},
     "output_type": "execute_result"
    }
   ],
   "source": [
    "X_train_grey_norm"
   ]
  },
  {
   "cell_type": "code",
   "execution_count": 19,
   "metadata": {
    "id": "L3KntwxFZqet"
   },
   "outputs": [
    {
     "data": {
      "text/plain": [
       "<matplotlib.image.AxesImage at 0x23939a2ca90>"
      ]
     },
     "execution_count": 19,
     "metadata": {},
     "output_type": "execute_result"
    },
    {
     "data": {
      "image/png": "[encoded data removed]",
      "text/plain": [
       "<Figure size 432x288 with 1 Axes>"
      ]
     },
     "metadata": {
      "needs_background": "light"
     },
     "output_type": "display_data"
    },
    {
     "data": {
      "image/png": "[encoded data removed]",
      "text/plain": [
       "<Figure size 432x288 with 1 Axes>"
      ]
     },
     "metadata": {
      "needs_background": "light"
     },
     "output_type": "display_data"
    },
    {
     "data": {
      "image/png": "[encoded data removed]",
      "text/plain": [
       "<Figure size 432x288 with 1 Axes>"
      ]
     },
     "metadata": {
      "needs_background": "light"
     },
     "output_type": "display_data"
    }
   ],
   "source": [
    "#Visualize images and compare with original\n",
    "i = 950\n",
    "plt.imshow(X_train_grey[i].squeeze(), cmap = 'gray')\n",
    "plt.figure()\n",
    "plt.imshow(X_train[i])\n",
    "plt.figure()\n",
    "plt.imshow(X_train_grey_norm[i].squeeze(), cmap = 'gray')"
   ]
  },
  {
   "cell_type": "markdown",
   "metadata": {
    "id": "urheuNlQo68l"
   },
   "source": [
    "# <u>**Model Training**"
   ]
  },
  {
   "cell_type": "markdown",
   "metadata": {
    "id": "pXOz7Yu2qeB8"
   },
   "source": [
    "The model consists of the following layers: \n",
    "\n",
    "- **1: THE FIRST CONVOLUTIONAL LAYER**\n",
    "    - Input = 32x32x1\n",
    "    - Output = 28x28x6\n",
    "    - Output = (Input-filter+1)/Stride* => (32-5+1)/1=28\n",
    "    - Used a 5x5 Filter with input depth of 3 and output depth of 6\n",
    "    - Apply a RELU Activation function to the output\n",
    "    - pooling for input, Input = 28x28x6 and Output = 14x14x6\n",
    "\n",
    "\n",
    "    * Stride is the amount by which the kernel is shifted when the kernel is passed over the image.\n",
    "\n",
    "- **2: THE SECOND CONVOLUTIONAL LAYER**\n",
    "    - Input = 14x14x6\n",
    "    - Output = 10x10x16\n",
    "    - Layer 2: Convolutional layer with Output = 10x10x16\n",
    "    - Output = (Input-filter+1)/strides => 10 = 14-5+1/1\n",
    "    - Apply a RELU Activation function to the output\n",
    "    - Pooling with Input = 10x10x16 and Output = 5x5x16\n",
    "\n",
    "- **3: FLATTENING THE NETWORK**\n",
    "    - Flatten the network with Input = 5x5x16 and Output = 400\n",
    "\n",
    "- **4: FULLY CONNECTED LAYER**\n",
    "    - Layer 3: Fully Connected layer with Input = 400 and Output = 120\n",
    "    - Apply a RELU Activation function to the output\n",
    "\n",
    "- **5: ANOTHER FULLY CONNECTED LAYER**\n",
    "    - Layer 4: Fully Connected Layer with Input = 120 and Output = 84\n",
    "    - Apply a RELU Activation function to the output\n",
    "\n",
    "- **6: FULLY CONNECTED LAYER**\n",
    "    - Layer 5: Fully Connected layer with Input = 84 and Output = 43"
   ]
  },
  {
   "cell_type": "code",
   "execution_count": 26,
   "metadata": {
    "id": "JUhtXPKbvNAe"
   },
   "outputs": [],
   "source": [
    "import tensorflow as tf\n",
    "from keras.models import Sequential\n",
    "from keras.layers import Conv2D, MaxPooling2D, AveragePooling2D, Dense, Flatten, Dropout\n",
    "from tensorflow.keras.optimizers import Adam\n",
    "from keras.callbacks import TensorBoard"
   ]
  },
  {
   "cell_type": "code",
   "execution_count": 29,
   "metadata": {},
   "outputs": [],
   "source": [
    "cnn_model = Sequential()\n",
    "\n",
    "# first convolutional layer\n",
    "cnn_model.add(Conv2D(filters=6, kernel_size=(5, 5), activation='relu', input_shape=(32,32,1)))\n",
    "cnn_model.add(AveragePooling2D())\n",
    "\n",
    "# Second convolutional layer and average pooling\n",
    "cnn_model.add(Conv2D(filters=16, kernel_size=(5, 5), activation='relu'))\n",
    "cnn_model.add(AveragePooling2D())\n",
    "\n",
    "#Flattening\n",
    "cnn_model.add(Flatten())\n",
    "\n",
    "#Fully connected layers and output\n",
    "cnn_model.add(Dense(units=120, activation='relu'))\n",
    "\n",
    "cnn_model.add(Dense(units=84, activation='relu'))\n",
    "\n",
    "cnn_model.add(Dense(units=43, activation = 'softmax'))\n"
   ]
  },
  {
   "cell_type": "code",
   "execution_count": 30,
   "metadata": {},
   "outputs": [],
   "source": [
    "cnn_model.compile(loss = 'sparse_categorical_crossentropy', optimizer=tf.keras.optimizers.RMSprop(learning_rate=0.001), metrics=['accuracy'])"
   ]
  },
  {
   "cell_type": "code",
   "execution_count": 36,
   "metadata": {},
   "outputs": [
    {
     "name": "stdout",
     "output_type": "stream",
     "text": [
      "Epoch 1/50\n",
      "70/70 [==============================] - 5s 64ms/step - loss: 3.0309 - accuracy: 0.2038 - val_loss: 2.5213 - val_accuracy: 0.3313\n",
      "Epoch 2/50\n",
      "70/70 [==============================] - 4s 60ms/step - loss: 1.8521 - accuracy: 0.4812 - val_loss: 1.8803 - val_accuracy: 0.4370\n",
      "Epoch 3/50\n",
      "70/70 [==============================] - 4s 60ms/step - loss: 1.2415 - accuracy: 0.6359 - val_loss: 1.2404 - val_accuracy: 0.6023\n",
      "Epoch 4/50\n",
      "70/70 [==============================] - 4s 60ms/step - loss: 0.9261 - accuracy: 0.7254 - val_loss: 0.9904 - val_accuracy: 0.7102\n",
      "Epoch 5/50\n",
      "70/70 [==============================] - 4s 61ms/step - loss: 0.7395 - accuracy: 0.7819 - val_loss: 0.8970 - val_accuracy: 0.7297\n",
      "Epoch 6/50\n",
      "70/70 [==============================] - 4s 63ms/step - loss: 0.6074 - accuracy: 0.8221 - val_loss: 0.7563 - val_accuracy: 0.7721\n",
      "Epoch 7/50\n",
      "70/70 [==============================] - 4s 60ms/step - loss: 0.5098 - accuracy: 0.8510 - val_loss: 0.7191 - val_accuracy: 0.7764\n",
      "Epoch 8/50\n",
      "70/70 [==============================] - 4s 60ms/step - loss: 0.4326 - accuracy: 0.8757 - val_loss: 0.7252 - val_accuracy: 0.7658\n",
      "Epoch 9/50\n",
      "70/70 [==============================] - 4s 62ms/step - loss: 0.3841 - accuracy: 0.8894 - val_loss: 0.6816 - val_accuracy: 0.8082\n",
      "Epoch 10/50\n",
      "70/70 [==============================] - 4s 64ms/step - loss: 0.3329 - accuracy: 0.9046 - val_loss: 0.6245 - val_accuracy: 0.8113\n",
      "Epoch 11/50\n",
      "70/70 [==============================] - 4s 62ms/step - loss: 0.2940 - accuracy: 0.9180 - val_loss: 0.5476 - val_accuracy: 0.8331\n",
      "Epoch 12/50\n",
      "70/70 [==============================] - 4s 61ms/step - loss: 0.2578 - accuracy: 0.9287 - val_loss: 0.5281 - val_accuracy: 0.8494\n",
      "Epoch 13/50\n",
      "70/70 [==============================] - 4s 60ms/step - loss: 0.2253 - accuracy: 0.9389 - val_loss: 0.5412 - val_accuracy: 0.8476\n",
      "Epoch 14/50\n",
      "70/70 [==============================] - 4s 61ms/step - loss: 0.2046 - accuracy: 0.9430 - val_loss: 0.5795 - val_accuracy: 0.8376\n",
      "Epoch 15/50\n",
      "70/70 [==============================] - 4s 61ms/step - loss: 0.1797 - accuracy: 0.9513 - val_loss: 0.4785 - val_accuracy: 0.8608\n",
      "Epoch 16/50\n",
      "70/70 [==============================] - 4s 62ms/step - loss: 0.1590 - accuracy: 0.9578 - val_loss: 0.5771 - val_accuracy: 0.8345\n",
      "Epoch 17/50\n",
      "70/70 [==============================] - 4s 61ms/step - loss: 0.1449 - accuracy: 0.9610 - val_loss: 0.6948 - val_accuracy: 0.8166\n",
      "Epoch 18/50\n",
      "70/70 [==============================] - 4s 61ms/step - loss: 0.1303 - accuracy: 0.9647 - val_loss: 0.5427 - val_accuracy: 0.8537\n",
      "Epoch 19/50\n",
      "70/70 [==============================] - 4s 63ms/step - loss: 0.1179 - accuracy: 0.9685 - val_loss: 0.5463 - val_accuracy: 0.8524\n",
      "Epoch 20/50\n",
      "70/70 [==============================] - 5s 69ms/step - loss: 0.1054 - accuracy: 0.9715 - val_loss: 0.5113 - val_accuracy: 0.8685\n",
      "Epoch 21/50\n",
      "70/70 [==============================] - 4s 63ms/step - loss: 0.0929 - accuracy: 0.9758 - val_loss: 0.5557 - val_accuracy: 0.8626\n",
      "Epoch 22/50\n",
      "70/70 [==============================] - 4s 62ms/step - loss: 0.0839 - accuracy: 0.9777 - val_loss: 0.4885 - val_accuracy: 0.8757\n",
      "Epoch 23/50\n",
      "70/70 [==============================] - 4s 60ms/step - loss: 0.0744 - accuracy: 0.9797 - val_loss: 0.4984 - val_accuracy: 0.8737\n",
      "Epoch 24/50\n",
      "70/70 [==============================] - 4s 59ms/step - loss: 0.0666 - accuracy: 0.9822 - val_loss: 0.5716 - val_accuracy: 0.8531\n",
      "Epoch 25/50\n",
      "70/70 [==============================] - 4s 61ms/step - loss: 0.0655 - accuracy: 0.9819 - val_loss: 0.5194 - val_accuracy: 0.8757\n",
      "Epoch 26/50\n",
      "70/70 [==============================] - 5s 65ms/step - loss: 0.0536 - accuracy: 0.9864 - val_loss: 0.4929 - val_accuracy: 0.8814\n",
      "Epoch 27/50\n",
      "70/70 [==============================] - 4s 64ms/step - loss: 0.0538 - accuracy: 0.9855 - val_loss: 0.4870 - val_accuracy: 0.8855\n",
      "Epoch 28/50\n",
      "70/70 [==============================] - 4s 59ms/step - loss: 0.0456 - accuracy: 0.9882 - val_loss: 0.5736 - val_accuracy: 0.8596\n",
      "Epoch 29/50\n",
      "70/70 [==============================] - 4s 60ms/step - loss: 0.0451 - accuracy: 0.9881 - val_loss: 0.5973 - val_accuracy: 0.8673\n",
      "Epoch 30/50\n",
      "70/70 [==============================] - 4s 62ms/step - loss: 0.0405 - accuracy: 0.9893 - val_loss: 0.4718 - val_accuracy: 0.8959\n",
      "Epoch 31/50\n",
      "70/70 [==============================] - 4s 61ms/step - loss: 0.0366 - accuracy: 0.9907 - val_loss: 0.5035 - val_accuracy: 0.8853\n",
      "Epoch 32/50\n",
      "70/70 [==============================] - 4s 60ms/step - loss: 0.0344 - accuracy: 0.9912 - val_loss: 0.5873 - val_accuracy: 0.8796\n",
      "Epoch 33/50\n",
      "70/70 [==============================] - 4s 60ms/step - loss: 0.0328 - accuracy: 0.9920 - val_loss: 0.4680 - val_accuracy: 0.9043\n",
      "Epoch 34/50\n",
      "70/70 [==============================] - 4s 59ms/step - loss: 0.0259 - accuracy: 0.9935 - val_loss: 0.6034 - val_accuracy: 0.8669\n",
      "Epoch 35/50\n",
      "70/70 [==============================] - 4s 59ms/step - loss: 0.0269 - accuracy: 0.9928 - val_loss: 0.5956 - val_accuracy: 0.8789\n",
      "Epoch 36/50\n",
      "70/70 [==============================] - 4s 60ms/step - loss: 0.0233 - accuracy: 0.9936 - val_loss: 0.6388 - val_accuracy: 0.8760\n",
      "Epoch 37/50\n",
      "70/70 [==============================] - 4s 63ms/step - loss: 0.0222 - accuracy: 0.9942 - val_loss: 0.5802 - val_accuracy: 0.8825\n",
      "Epoch 38/50\n",
      "70/70 [==============================] - 4s 61ms/step - loss: 0.0200 - accuracy: 0.9947 - val_loss: 0.6150 - val_accuracy: 0.8884\n",
      "Epoch 39/50\n",
      "70/70 [==============================] - 4s 60ms/step - loss: 0.0192 - accuracy: 0.9947 - val_loss: 0.6030 - val_accuracy: 0.8875\n",
      "Epoch 40/50\n",
      "70/70 [==============================] - 4s 60ms/step - loss: 0.0218 - accuracy: 0.9940 - val_loss: 0.9112 - val_accuracy: 0.8383\n",
      "Epoch 41/50\n",
      "70/70 [==============================] - 4s 60ms/step - loss: 0.0173 - accuracy: 0.9958 - val_loss: 0.5640 - val_accuracy: 0.8950\n",
      "Epoch 42/50\n",
      "70/70 [==============================] - 4s 60ms/step - loss: 0.0151 - accuracy: 0.9958 - val_loss: 0.5943 - val_accuracy: 0.8943\n",
      "Epoch 43/50\n",
      "70/70 [==============================] - 4s 60ms/step - loss: 0.0157 - accuracy: 0.9962 - val_loss: 0.5584 - val_accuracy: 0.8930\n",
      "Epoch 44/50\n",
      "70/70 [==============================] - 4s 59ms/step - loss: 0.0165 - accuracy: 0.9956 - val_loss: 0.5945 - val_accuracy: 0.8959\n",
      "Epoch 45/50\n",
      "70/70 [==============================] - 4s 59ms/step - loss: 0.0121 - accuracy: 0.9970 - val_loss: 0.6346 - val_accuracy: 0.8871\n",
      "Epoch 46/50\n",
      "70/70 [==============================] - 4s 60ms/step - loss: 0.0109 - accuracy: 0.9973 - val_loss: 0.6495 - val_accuracy: 0.8857\n",
      "Epoch 47/50\n",
      "70/70 [==============================] - 4s 60ms/step - loss: 0.0116 - accuracy: 0.9964 - val_loss: 0.6631 - val_accuracy: 0.8937\n",
      "Epoch 48/50\n",
      "70/70 [==============================] - 4s 60ms/step - loss: 0.0111 - accuracy: 0.9970 - val_loss: 0.6248 - val_accuracy: 0.9029\n",
      "Epoch 49/50\n",
      "70/70 [==============================] - 4s 59ms/step - loss: 0.0094 - accuracy: 0.9973 - val_loss: 0.6771 - val_accuracy: 0.8986\n",
      "Epoch 50/50\n",
      "70/70 [==============================] - 4s 59ms/step - loss: 0.0128 - accuracy: 0.9967 - val_loss: 0.6733 - val_accuracy: 0.8946\n"
     ]
    }
   ],
   "source": [
    "history = cnn_model.fit(X_train_grey_norm,\n",
    "                        y_train,\n",
    "                        batch_size=500,\n",
    "                        epochs=50,\n",
    "                        verbose=1,\n",
    "                        validation_data = (X_val_grey_norm,y_val))"
   ]
  },
  {
   "cell_type": "markdown",
   "metadata": {},
   "source": [
    "# <u>**Model Evaluation**"
   ]
  },
  {
   "cell_type": "code",
   "execution_count": 41,
   "metadata": {},
   "outputs": [
    {
     "name": "stdout",
     "output_type": "stream",
     "text": [
      "138/138 [==============================] - 0s 3ms/step - loss: 0.6733 - accuracy: 0.8946\n",
      "Test Accuracy:0.8945578336715698\n"
     ]
    }
   ],
   "source": [
    "score = cnn_model.evaluate(X_val_grey_norm, y_val)\n",
    "print('Test Accuracy:{}'.format(score[1]))"
   ]
  },
  {
   "cell_type": "code",
   "execution_count": 42,
   "metadata": {},
   "outputs": [
    {
     "data": {
      "text/plain": [
       "dict_keys(['loss', 'accuracy', 'val_loss', 'val_accuracy'])"
      ]
     },
     "execution_count": 42,
     "metadata": {},
     "output_type": "execute_result"
    }
   ],
   "source": [
    "history.history.keys()"
   ]
  },
  {
   "cell_type": "code",
   "execution_count": 44,
   "metadata": {},
   "outputs": [
    {
     "data": {
      "text/plain": [
       "<matplotlib.legend.Legend at 0x2391984cf40>"
      ]
     },
     "execution_count": 44,
     "metadata": {},
     "output_type": "execute_result"
    },
    {
     "data": {
      "image/png": "[encoded data removed]",
      "text/plain": [
       "<Figure size 432x288 with 1 Axes>"
      ]
     },
     "metadata": {
      "needs_background": "light"
     },
     "output_type": "display_data"
    }
   ],
   "source": [
    "accuracy = history.history['accuracy']\n",
    "val_accuracy = history.history['val_accuracy']\n",
    "loss = history.history['loss']\n",
    "val_loss = history.history['val_loss']\n",
    "\n",
    "epochs = range(len(accuracy))\n",
    "\n",
    "plt.plot(epochs, accuracy, 'bo', label='Training Accuracy')\n",
    "plt.plot(epochs, val_accuracy, 'b', label='Validation Accuracy')\n",
    "plt.title('Training and Validation accuracy')\n",
    "plt.legend()"
   ]
  },
  {
   "cell_type": "code",
   "execution_count": 45,
   "metadata": {},
   "outputs": [
    {
     "data": {
      "image/png": "[encoded data removed]",
      "text/plain": [
       "<Figure size 432x288 with 1 Axes>"
      ]
     },
     "metadata": {
      "needs_background": "light"
     },
     "output_type": "display_data"
    }
   ],
   "source": [
    "plt.plot(epochs, loss, 'ro', label='Training Loss')\n",
    "plt.plot(epochs, val_loss, 'r', label='Validation Loss')\n",
    "plt.title('Training and validation loss')\n",
    "plt.legend()\n",
    "plt.show()"
   ]
  }
 ],
 "metadata": {
  "colab": {
   "collapsed_sections": [],
   "name": "LeNeT Deep Network Traffic Sign Classification.ipynb",
   "provenance": []
  },
  "kernelspec": {
   "display_name": "Python 3 (ipykernel)",
   "language": "python",
   "name": "python3"
  },
  "language_info": {
   "codemirror_mode": {
    "name": "ipython",
    "version": 3
   },
   "file_extension": ".py",
   "mimetype": "text/x-python",
   "name": "python",
   "nbconvert_exporter": "python",
   "pygments_lexer": "ipython3",
   "version": "3.8.12"
  }
 },
 "nbformat": 4,
 "nbformat_minor": 1
}
